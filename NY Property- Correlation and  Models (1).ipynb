{
 "cells": [
  {
   "cell_type": "markdown",
   "metadata": {},
   "source": [
    "# Module 6 - Correlation & Linear Regression"
   ]
  },
  {
   "cell_type": "code",
   "execution_count": 19,
   "metadata": {},
   "outputs": [],
   "source": [
    "import pandas as pd\n",
    "import numpy as np"
   ]
  },
  {
   "cell_type": "markdown",
   "metadata": {},
   "source": [
    "## Correlation"
   ]
  },
  {
   "cell_type": "code",
   "execution_count": 20,
   "metadata": {},
   "outputs": [
    {
     "data": {
      "text/html": [
       "<div>\n",
       "<style scoped>\n",
       "    .dataframe tbody tr th:only-of-type {\n",
       "        vertical-align: middle;\n",
       "    }\n",
       "\n",
       "    .dataframe tbody tr th {\n",
       "        vertical-align: top;\n",
       "    }\n",
       "\n",
       "    .dataframe thead th {\n",
       "        text-align: right;\n",
       "    }\n",
       "</style>\n",
       "<table border=\"1\" class=\"dataframe\">\n",
       "  <thead>\n",
       "    <tr style=\"text-align: right;\">\n",
       "      <th></th>\n",
       "      <th>Unnamed: 0</th>\n",
       "      <th>BOROUGH</th>\n",
       "      <th>NEIGHBORHOOD</th>\n",
       "      <th>BUILDING CLASS CATEGORY</th>\n",
       "      <th>TAX CLASS AT PRESENT</th>\n",
       "      <th>BLOCK</th>\n",
       "      <th>LOT</th>\n",
       "      <th>EASE-MENT</th>\n",
       "      <th>BUILDING CLASS AT PRESENT</th>\n",
       "      <th>ADDRESS</th>\n",
       "      <th>...</th>\n",
       "      <th>RESIDENTIAL UNITS</th>\n",
       "      <th>COMMERCIAL UNITS</th>\n",
       "      <th>TOTAL UNITS</th>\n",
       "      <th>LAND SQUARE FEET</th>\n",
       "      <th>GROSS SQUARE FEET</th>\n",
       "      <th>YEAR BUILT</th>\n",
       "      <th>TAX CLASS AT TIME OF SALE</th>\n",
       "      <th>BUILDING CLASS AT TIME OF SALE</th>\n",
       "      <th>SALE PRICE</th>\n",
       "      <th>SALE DATE</th>\n",
       "    </tr>\n",
       "  </thead>\n",
       "  <tbody>\n",
       "    <tr>\n",
       "      <th>0</th>\n",
       "      <td>4</td>\n",
       "      <td>1</td>\n",
       "      <td>ALPHABET CITY</td>\n",
       "      <td>07 RENTALS - WALKUP APARTMENTS</td>\n",
       "      <td>2A</td>\n",
       "      <td>392</td>\n",
       "      <td>6</td>\n",
       "      <td></td>\n",
       "      <td>C2</td>\n",
       "      <td>153 AVENUE B</td>\n",
       "      <td>...</td>\n",
       "      <td>5</td>\n",
       "      <td>0</td>\n",
       "      <td>5</td>\n",
       "      <td>1633</td>\n",
       "      <td>6440</td>\n",
       "      <td>1900</td>\n",
       "      <td>2</td>\n",
       "      <td>C2</td>\n",
       "      <td>6625000</td>\n",
       "      <td>2017-07-19 00:00:00</td>\n",
       "    </tr>\n",
       "    <tr>\n",
       "      <th>1</th>\n",
       "      <td>5</td>\n",
       "      <td>1</td>\n",
       "      <td>ALPHABET CITY</td>\n",
       "      <td>07 RENTALS - WALKUP APARTMENTS</td>\n",
       "      <td>2</td>\n",
       "      <td>399</td>\n",
       "      <td>26</td>\n",
       "      <td></td>\n",
       "      <td>C7</td>\n",
       "      <td>234 EAST 4TH   STREET</td>\n",
       "      <td>...</td>\n",
       "      <td>28</td>\n",
       "      <td>3</td>\n",
       "      <td>31</td>\n",
       "      <td>4616</td>\n",
       "      <td>18690</td>\n",
       "      <td>1900</td>\n",
       "      <td>2</td>\n",
       "      <td>C7</td>\n",
       "      <td>-</td>\n",
       "      <td>2016-12-14 00:00:00</td>\n",
       "    </tr>\n",
       "    <tr>\n",
       "      <th>2</th>\n",
       "      <td>6</td>\n",
       "      <td>1</td>\n",
       "      <td>ALPHABET CITY</td>\n",
       "      <td>07 RENTALS - WALKUP APARTMENTS</td>\n",
       "      <td>2</td>\n",
       "      <td>399</td>\n",
       "      <td>39</td>\n",
       "      <td></td>\n",
       "      <td>C7</td>\n",
       "      <td>197 EAST 3RD   STREET</td>\n",
       "      <td>...</td>\n",
       "      <td>16</td>\n",
       "      <td>1</td>\n",
       "      <td>17</td>\n",
       "      <td>2212</td>\n",
       "      <td>7803</td>\n",
       "      <td>1900</td>\n",
       "      <td>2</td>\n",
       "      <td>C7</td>\n",
       "      <td>-</td>\n",
       "      <td>2016-12-09 00:00:00</td>\n",
       "    </tr>\n",
       "    <tr>\n",
       "      <th>3</th>\n",
       "      <td>7</td>\n",
       "      <td>1</td>\n",
       "      <td>ALPHABET CITY</td>\n",
       "      <td>07 RENTALS - WALKUP APARTMENTS</td>\n",
       "      <td>2B</td>\n",
       "      <td>402</td>\n",
       "      <td>21</td>\n",
       "      <td></td>\n",
       "      <td>C4</td>\n",
       "      <td>154 EAST 7TH STREET</td>\n",
       "      <td>...</td>\n",
       "      <td>10</td>\n",
       "      <td>0</td>\n",
       "      <td>10</td>\n",
       "      <td>2272</td>\n",
       "      <td>6794</td>\n",
       "      <td>1913</td>\n",
       "      <td>2</td>\n",
       "      <td>C4</td>\n",
       "      <td>3936272</td>\n",
       "      <td>2016-09-23 00:00:00</td>\n",
       "    </tr>\n",
       "    <tr>\n",
       "      <th>4</th>\n",
       "      <td>8</td>\n",
       "      <td>1</td>\n",
       "      <td>ALPHABET CITY</td>\n",
       "      <td>07 RENTALS - WALKUP APARTMENTS</td>\n",
       "      <td>2A</td>\n",
       "      <td>404</td>\n",
       "      <td>55</td>\n",
       "      <td></td>\n",
       "      <td>C2</td>\n",
       "      <td>301 EAST 10TH   STREET</td>\n",
       "      <td>...</td>\n",
       "      <td>6</td>\n",
       "      <td>0</td>\n",
       "      <td>6</td>\n",
       "      <td>2369</td>\n",
       "      <td>4615</td>\n",
       "      <td>1900</td>\n",
       "      <td>2</td>\n",
       "      <td>C2</td>\n",
       "      <td>8000000</td>\n",
       "      <td>2016-11-17 00:00:00</td>\n",
       "    </tr>\n",
       "  </tbody>\n",
       "</table>\n",
       "<p>5 rows × 22 columns</p>\n",
       "</div>"
      ],
      "text/plain": [
       "   Unnamed: 0  BOROUGH   NEIGHBORHOOD  \\\n",
       "0           4        1  ALPHABET CITY   \n",
       "1           5        1  ALPHABET CITY   \n",
       "2           6        1  ALPHABET CITY   \n",
       "3           7        1  ALPHABET CITY   \n",
       "4           8        1  ALPHABET CITY   \n",
       "\n",
       "                       BUILDING CLASS CATEGORY TAX CLASS AT PRESENT  BLOCK  \\\n",
       "0  07 RENTALS - WALKUP APARTMENTS                                2A    392   \n",
       "1  07 RENTALS - WALKUP APARTMENTS                                 2    399   \n",
       "2  07 RENTALS - WALKUP APARTMENTS                                 2    399   \n",
       "3  07 RENTALS - WALKUP APARTMENTS                                2B    402   \n",
       "4  07 RENTALS - WALKUP APARTMENTS                                2A    404   \n",
       "\n",
       "   LOT EASE-MENT BUILDING CLASS AT PRESENT                 ADDRESS  \\\n",
       "0    6                                  C2            153 AVENUE B   \n",
       "1   26                                  C7   234 EAST 4TH   STREET   \n",
       "2   39                                  C7   197 EAST 3RD   STREET   \n",
       "3   21                                  C4     154 EAST 7TH STREET   \n",
       "4   55                                  C2  301 EAST 10TH   STREET   \n",
       "\n",
       "          ...          RESIDENTIAL UNITS  COMMERCIAL UNITS  TOTAL UNITS  \\\n",
       "0         ...                          5                 0            5   \n",
       "1         ...                         28                 3           31   \n",
       "2         ...                         16                 1           17   \n",
       "3         ...                         10                 0           10   \n",
       "4         ...                          6                 0            6   \n",
       "\n",
       "   LAND SQUARE FEET  GROSS SQUARE FEET YEAR BUILT TAX CLASS AT TIME OF SALE  \\\n",
       "0              1633               6440       1900                         2   \n",
       "1              4616              18690       1900                         2   \n",
       "2              2212               7803       1900                         2   \n",
       "3              2272               6794       1913                         2   \n",
       "4              2369               4615       1900                         2   \n",
       "\n",
       "   BUILDING CLASS AT TIME OF SALE  SALE PRICE            SALE DATE  \n",
       "0                              C2     6625000  2017-07-19 00:00:00  \n",
       "1                              C7         -    2016-12-14 00:00:00  \n",
       "2                              C7         -    2016-12-09 00:00:00  \n",
       "3                              C4     3936272  2016-09-23 00:00:00  \n",
       "4                              C2     8000000  2016-11-17 00:00:00  \n",
       "\n",
       "[5 rows x 22 columns]"
      ]
     },
     "execution_count": 20,
     "metadata": {},
     "output_type": "execute_result"
    }
   ],
   "source": [
    "Location = \"nyc-rolling-sales.csv\"\n",
    "df = pd.read_csv(Location)\n",
    "\n",
    "df.head()"
   ]
  },
  {
   "cell_type": "code",
   "execution_count": 21,
   "metadata": {
    "scrolled": true
   },
   "outputs": [
    {
     "data": {
      "text/html": [
       "<div>\n",
       "<style scoped>\n",
       "    .dataframe tbody tr th:only-of-type {\n",
       "        vertical-align: middle;\n",
       "    }\n",
       "\n",
       "    .dataframe tbody tr th {\n",
       "        vertical-align: top;\n",
       "    }\n",
       "\n",
       "    .dataframe thead th {\n",
       "        text-align: right;\n",
       "    }\n",
       "</style>\n",
       "<table border=\"1\" class=\"dataframe\">\n",
       "  <thead>\n",
       "    <tr style=\"text-align: right;\">\n",
       "      <th></th>\n",
       "      <th>Unnamed: 0</th>\n",
       "      <th>BOROUGH</th>\n",
       "      <th>BLOCK</th>\n",
       "      <th>LOT</th>\n",
       "      <th>ZIP CODE</th>\n",
       "      <th>RESIDENTIAL UNITS</th>\n",
       "      <th>COMMERCIAL UNITS</th>\n",
       "      <th>TOTAL UNITS</th>\n",
       "      <th>YEAR BUILT</th>\n",
       "      <th>TAX CLASS AT TIME OF SALE</th>\n",
       "    </tr>\n",
       "  </thead>\n",
       "  <tbody>\n",
       "    <tr>\n",
       "      <th>Unnamed: 0</th>\n",
       "      <td>1.000000</td>\n",
       "      <td>0.088817</td>\n",
       "      <td>0.264130</td>\n",
       "      <td>-0.031601</td>\n",
       "      <td>0.166882</td>\n",
       "      <td>-0.013318</td>\n",
       "      <td>-0.002821</td>\n",
       "      <td>-0.012856</td>\n",
       "      <td>-0.004057</td>\n",
       "      <td>0.017395</td>\n",
       "    </tr>\n",
       "    <tr>\n",
       "      <th>BOROUGH</th>\n",
       "      <td>0.088817</td>\n",
       "      <td>1.000000</td>\n",
       "      <td>0.417001</td>\n",
       "      <td>-0.277848</td>\n",
       "      <td>0.256564</td>\n",
       "      <td>-0.023229</td>\n",
       "      <td>-0.005503</td>\n",
       "      <td>-0.023346</td>\n",
       "      <td>0.108303</td>\n",
       "      <td>-0.315163</td>\n",
       "    </tr>\n",
       "    <tr>\n",
       "      <th>BLOCK</th>\n",
       "      <td>0.264130</td>\n",
       "      <td>0.417001</td>\n",
       "      <td>1.000000</td>\n",
       "      <td>-0.229118</td>\n",
       "      <td>0.234063</td>\n",
       "      <td>-0.015628</td>\n",
       "      <td>-0.003517</td>\n",
       "      <td>-0.015888</td>\n",
       "      <td>0.071262</td>\n",
       "      <td>-0.287300</td>\n",
       "    </tr>\n",
       "    <tr>\n",
       "      <th>LOT</th>\n",
       "      <td>-0.031601</td>\n",
       "      <td>-0.277848</td>\n",
       "      <td>-0.229118</td>\n",
       "      <td>1.000000</td>\n",
       "      <td>-0.145802</td>\n",
       "      <td>-0.034303</td>\n",
       "      <td>-0.010953</td>\n",
       "      <td>-0.033169</td>\n",
       "      <td>-0.289463</td>\n",
       "      <td>0.296680</td>\n",
       "    </tr>\n",
       "    <tr>\n",
       "      <th>ZIP CODE</th>\n",
       "      <td>0.166882</td>\n",
       "      <td>0.256564</td>\n",
       "      <td>0.234063</td>\n",
       "      <td>-0.145802</td>\n",
       "      <td>1.000000</td>\n",
       "      <td>0.005578</td>\n",
       "      <td>0.000726</td>\n",
       "      <td>0.005415</td>\n",
       "      <td>0.330708</td>\n",
       "      <td>-0.142915</td>\n",
       "    </tr>\n",
       "    <tr>\n",
       "      <th>RESIDENTIAL UNITS</th>\n",
       "      <td>-0.013318</td>\n",
       "      <td>-0.023229</td>\n",
       "      <td>-0.015628</td>\n",
       "      <td>-0.034303</td>\n",
       "      <td>0.005578</td>\n",
       "      <td>1.000000</td>\n",
       "      <td>0.015653</td>\n",
       "      <td>0.888309</td>\n",
       "      <td>0.025380</td>\n",
       "      <td>-0.001074</td>\n",
       "    </tr>\n",
       "    <tr>\n",
       "      <th>COMMERCIAL UNITS</th>\n",
       "      <td>-0.002821</td>\n",
       "      <td>-0.005503</td>\n",
       "      <td>-0.003517</td>\n",
       "      <td>-0.010953</td>\n",
       "      <td>0.000726</td>\n",
       "      <td>0.015653</td>\n",
       "      <td>1.000000</td>\n",
       "      <td>0.472998</td>\n",
       "      <td>0.006428</td>\n",
       "      <td>0.049586</td>\n",
       "    </tr>\n",
       "    <tr>\n",
       "      <th>TOTAL UNITS</th>\n",
       "      <td>-0.012856</td>\n",
       "      <td>-0.023346</td>\n",
       "      <td>-0.015888</td>\n",
       "      <td>-0.033169</td>\n",
       "      <td>0.005415</td>\n",
       "      <td>0.888309</td>\n",
       "      <td>0.472998</td>\n",
       "      <td>1.000000</td>\n",
       "      <td>0.024568</td>\n",
       "      <td>0.026429</td>\n",
       "    </tr>\n",
       "    <tr>\n",
       "      <th>YEAR BUILT</th>\n",
       "      <td>-0.004057</td>\n",
       "      <td>0.108303</td>\n",
       "      <td>0.071262</td>\n",
       "      <td>-0.289463</td>\n",
       "      <td>0.330708</td>\n",
       "      <td>0.025380</td>\n",
       "      <td>0.006428</td>\n",
       "      <td>0.024568</td>\n",
       "      <td>1.000000</td>\n",
       "      <td>-0.187609</td>\n",
       "    </tr>\n",
       "    <tr>\n",
       "      <th>TAX CLASS AT TIME OF SALE</th>\n",
       "      <td>0.017395</td>\n",
       "      <td>-0.315163</td>\n",
       "      <td>-0.287300</td>\n",
       "      <td>0.296680</td>\n",
       "      <td>-0.142915</td>\n",
       "      <td>-0.001074</td>\n",
       "      <td>0.049586</td>\n",
       "      <td>0.026429</td>\n",
       "      <td>-0.187609</td>\n",
       "      <td>1.000000</td>\n",
       "    </tr>\n",
       "  </tbody>\n",
       "</table>\n",
       "</div>"
      ],
      "text/plain": [
       "                           Unnamed: 0   BOROUGH     BLOCK       LOT  ZIP CODE  \\\n",
       "Unnamed: 0                   1.000000  0.088817  0.264130 -0.031601  0.166882   \n",
       "BOROUGH                      0.088817  1.000000  0.417001 -0.277848  0.256564   \n",
       "BLOCK                        0.264130  0.417001  1.000000 -0.229118  0.234063   \n",
       "LOT                         -0.031601 -0.277848 -0.229118  1.000000 -0.145802   \n",
       "ZIP CODE                     0.166882  0.256564  0.234063 -0.145802  1.000000   \n",
       "RESIDENTIAL UNITS           -0.013318 -0.023229 -0.015628 -0.034303  0.005578   \n",
       "COMMERCIAL UNITS            -0.002821 -0.005503 -0.003517 -0.010953  0.000726   \n",
       "TOTAL UNITS                 -0.012856 -0.023346 -0.015888 -0.033169  0.005415   \n",
       "YEAR BUILT                  -0.004057  0.108303  0.071262 -0.289463  0.330708   \n",
       "TAX CLASS AT TIME OF SALE    0.017395 -0.315163 -0.287300  0.296680 -0.142915   \n",
       "\n",
       "                           RESIDENTIAL UNITS  COMMERCIAL UNITS  TOTAL UNITS  \\\n",
       "Unnamed: 0                         -0.013318         -0.002821    -0.012856   \n",
       "BOROUGH                            -0.023229         -0.005503    -0.023346   \n",
       "BLOCK                              -0.015628         -0.003517    -0.015888   \n",
       "LOT                                -0.034303         -0.010953    -0.033169   \n",
       "ZIP CODE                            0.005578          0.000726     0.005415   \n",
       "RESIDENTIAL UNITS                   1.000000          0.015653     0.888309   \n",
       "COMMERCIAL UNITS                    0.015653          1.000000     0.472998   \n",
       "TOTAL UNITS                         0.888309          0.472998     1.000000   \n",
       "YEAR BUILT                          0.025380          0.006428     0.024568   \n",
       "TAX CLASS AT TIME OF SALE          -0.001074          0.049586     0.026429   \n",
       "\n",
       "                           YEAR BUILT  TAX CLASS AT TIME OF SALE  \n",
       "Unnamed: 0                  -0.004057                   0.017395  \n",
       "BOROUGH                      0.108303                  -0.315163  \n",
       "BLOCK                        0.071262                  -0.287300  \n",
       "LOT                         -0.289463                   0.296680  \n",
       "ZIP CODE                     0.330708                  -0.142915  \n",
       "RESIDENTIAL UNITS            0.025380                  -0.001074  \n",
       "COMMERCIAL UNITS             0.006428                   0.049586  \n",
       "TOTAL UNITS                  0.024568                   0.026429  \n",
       "YEAR BUILT                   1.000000                  -0.187609  \n",
       "TAX CLASS AT TIME OF SALE   -0.187609                   1.000000  "
      ]
     },
     "execution_count": 21,
     "metadata": {},
     "output_type": "execute_result"
    }
   ],
   "source": [
    "df.corr()"
   ]
  },
  {
   "cell_type": "markdown",
   "metadata": {},
   "source": [
    "## Linear Regression"
   ]
  },
  {
   "cell_type": "code",
   "execution_count": 22,
   "metadata": {},
   "outputs": [],
   "source": [
    "import statsmodels.formula.api as smf"
   ]
  },
  {
   "cell_type": "code",
   "execution_count": 23,
   "metadata": {},
   "outputs": [],
   "source": [
    "df[\"ZIP_CODE\"]=df[\"ZIP CODE\"]\n",
    "df[\"YEAR_BUILT\"]=df[\"YEAR BUILT\"]\n",
    "df[\"RESIDENTIAL_UNITS\"]=df[\"RESIDENTIAL UNITS\"]\n",
    "df[\"COMMERCIAL_UNITS\"]=df[\"COMMERCIAL UNITS\"]"
   ]
  },
  {
   "cell_type": "code",
   "execution_count": 24,
   "metadata": {
    "scrolled": true
   },
   "outputs": [],
   "source": [
    "result = smf.ols('ZIP_CODE ~ YEAR_BUILT + RESIDENTIAL_UNITS + COMMERCIAL_UNITS', data=df).fit()"
   ]
  },
  {
   "cell_type": "code",
   "execution_count": 25,
   "metadata": {
    "scrolled": false
   },
   "outputs": [
    {
     "data": {
      "text/html": [
       "<table class=\"simpletable\">\n",
       "<caption>OLS Regression Results</caption>\n",
       "<tr>\n",
       "  <th>Dep. Variable:</th>        <td>ZIP_CODE</td>     <th>  R-squared:         </th>  <td>   0.109</td>  \n",
       "</tr>\n",
       "<tr>\n",
       "  <th>Model:</th>                   <td>OLS</td>       <th>  Adj. R-squared:    </th>  <td>   0.109</td>  \n",
       "</tr>\n",
       "<tr>\n",
       "  <th>Method:</th>             <td>Least Squares</td>  <th>  F-statistic:       </th>  <td>   3461.</td>  \n",
       "</tr>\n",
       "<tr>\n",
       "  <th>Date:</th>             <td>Thu, 07 Mar 2019</td> <th>  Prob (F-statistic):</th>   <td>  0.00</td>   \n",
       "</tr>\n",
       "<tr>\n",
       "  <th>Time:</th>                 <td>19:53:30</td>     <th>  Log-Likelihood:    </th> <td>-7.2070e+05</td>\n",
       "</tr>\n",
       "<tr>\n",
       "  <th>No. Observations:</th>      <td> 84548</td>      <th>  AIC:               </th>  <td>1.441e+06</td> \n",
       "</tr>\n",
       "<tr>\n",
       "  <th>Df Residuals:</th>          <td> 84544</td>      <th>  BIC:               </th>  <td>1.441e+06</td> \n",
       "</tr>\n",
       "<tr>\n",
       "  <th>Df Model:</th>              <td>     3</td>      <th>                     </th>      <td> </td>     \n",
       "</tr>\n",
       "<tr>\n",
       "  <th>Covariance Type:</th>      <td>nonrobust</td>    <th>                     </th>      <td> </td>     \n",
       "</tr>\n",
       "</table>\n",
       "<table class=\"simpletable\">\n",
       "<tr>\n",
       "          <td></td>             <th>coef</th>     <th>std err</th>      <th>t</th>      <th>P>|t|</th>  <th>[0.025</th>    <th>0.975]</th>  \n",
       "</tr>\n",
       "<tr>\n",
       "  <th>Intercept</th>         <td> 9310.5644</td> <td>   14.568</td> <td>  639.110</td> <td> 0.000</td> <td> 9282.011</td> <td> 9339.118</td>\n",
       "</tr>\n",
       "<tr>\n",
       "  <th>YEAR_BUILT</th>        <td>    0.7947</td> <td>    0.008</td> <td>  101.882</td> <td> 0.000</td> <td>    0.779</td> <td>    0.810</td>\n",
       "</tr>\n",
       "<tr>\n",
       "  <th>RESIDENTIAL_UNITS</th> <td>   -0.2159</td> <td>    0.251</td> <td>   -0.861</td> <td> 0.389</td> <td>   -0.707</td> <td>    0.275</td>\n",
       "</tr>\n",
       "<tr>\n",
       "  <th>COMMERCIAL_UNITS</th>  <td>   -0.2010</td> <td>    0.481</td> <td>   -0.418</td> <td> 0.676</td> <td>   -1.144</td> <td>    0.742</td>\n",
       "</tr>\n",
       "</table>\n",
       "<table class=\"simpletable\">\n",
       "<tr>\n",
       "  <th>Omnibus:</th>       <td>87355.265</td> <th>  Durbin-Watson:     </th>  <td>   0.715</td>  \n",
       "</tr>\n",
       "<tr>\n",
       "  <th>Prob(Omnibus):</th>  <td> 0.000</td>   <th>  Jarque-Bera (JB):  </th> <td>5693453.141</td>\n",
       "</tr>\n",
       "<tr>\n",
       "  <th>Skew:</th>           <td>-5.226</td>   <th>  Prob(JB):          </th>  <td>    0.00</td>  \n",
       "</tr>\n",
       "<tr>\n",
       "  <th>Kurtosis:</th>       <td>41.819</td>   <th>  Cond. No.          </th>  <td>6.50e+03</td>  \n",
       "</tr>\n",
       "</table><br/><br/>Warnings:<br/>[1] Standard Errors assume that the covariance matrix of the errors is correctly specified.<br/>[2] The condition number is large, 6.5e+03. This might indicate that there are<br/>strong multicollinearity or other numerical problems."
      ],
      "text/plain": [
       "<class 'statsmodels.iolib.summary.Summary'>\n",
       "\"\"\"\n",
       "                            OLS Regression Results                            \n",
       "==============================================================================\n",
       "Dep. Variable:               ZIP_CODE   R-squared:                       0.109\n",
       "Model:                            OLS   Adj. R-squared:                  0.109\n",
       "Method:                 Least Squares   F-statistic:                     3461.\n",
       "Date:                Thu, 07 Mar 2019   Prob (F-statistic):               0.00\n",
       "Time:                        19:53:30   Log-Likelihood:            -7.2070e+05\n",
       "No. Observations:               84548   AIC:                         1.441e+06\n",
       "Df Residuals:                   84544   BIC:                         1.441e+06\n",
       "Df Model:                           3                                         \n",
       "Covariance Type:            nonrobust                                         \n",
       "=====================================================================================\n",
       "                        coef    std err          t      P>|t|      [0.025      0.975]\n",
       "-------------------------------------------------------------------------------------\n",
       "Intercept          9310.5644     14.568    639.110      0.000    9282.011    9339.118\n",
       "YEAR_BUILT            0.7947      0.008    101.882      0.000       0.779       0.810\n",
       "RESIDENTIAL_UNITS    -0.2159      0.251     -0.861      0.389      -0.707       0.275\n",
       "COMMERCIAL_UNITS     -0.2010      0.481     -0.418      0.676      -1.144       0.742\n",
       "==============================================================================\n",
       "Omnibus:                    87355.265   Durbin-Watson:                   0.715\n",
       "Prob(Omnibus):                  0.000   Jarque-Bera (JB):          5693453.141\n",
       "Skew:                          -5.226   Prob(JB):                         0.00\n",
       "Kurtosis:                      41.819   Cond. No.                     6.50e+03\n",
       "==============================================================================\n",
       "\n",
       "Warnings:\n",
       "[1] Standard Errors assume that the covariance matrix of the errors is correctly specified.\n",
       "[2] The condition number is large, 6.5e+03. This might indicate that there are\n",
       "strong multicollinearity or other numerical problems.\n",
       "\"\"\""
      ]
     },
     "execution_count": 25,
     "metadata": {},
     "output_type": "execute_result"
    }
   ],
   "source": [
    "result.summary()"
   ]
  },
  {
   "cell_type": "markdown",
   "metadata": {},
   "source": [
    "There is a 79% (coeff. 0.7947) positive correlation between the zip code and the year built.  However a negative correlation between zip code and residential units and commercial units. The p-value for Year-built is 0, less than 0.05 so there is no association between zip code and year built and the null hypothesis must be rejected.  However there is a high p-value for residential units (0.389) and even higher for commercial units (0.676), which both have a positive effect on zip code.  The R-Squared is 0.109  which means that about 11% of the variation in the zip code is explained by year built."
   ]
  },
  {
   "cell_type": "code",
   "execution_count": 26,
   "metadata": {},
   "outputs": [
    {
     "data": {
      "text/plain": [
       "<seaborn.axisgrid.FacetGrid at 0x2811a13f240>"
      ]
     },
     "execution_count": 26,
     "metadata": {},
     "output_type": "execute_result"
    },
    {
     "data": {
      "image/png": "[encoded data removed]",
      "text/plain": [
       "<Figure size 360x360 with 1 Axes>"
      ]
     },
     "metadata": {
      "needs_background": "light"
     },
     "output_type": "display_data"
    }
   ],
   "source": [
    "sns.lmplot(x=\"YEAR BUILT\", y=\"ZIP CODE\", data=df)"
   ]
  },
  {
   "cell_type": "code",
   "execution_count": 27,
   "metadata": {},
   "outputs": [
    {
     "data": {
      "text/plain": [
       "<seaborn.axisgrid.FacetGrid at 0x2811a8599b0>"
      ]
     },
     "execution_count": 27,
     "metadata": {},
     "output_type": "execute_result"
    },
    {
     "data": {
      "image/png": "[encoded data removed]",
      "text/plain": [
       "<Figure size 360x360 with 1 Axes>"
      ]
     },
     "metadata": {
      "needs_background": "light"
     },
     "output_type": "display_data"
    }
   ],
   "source": [
    "sns.lmplot(x=\"RESIDENTIAL UNITS\", y=\"ZIP CODE\", data=df)"
   ]
  },
  {
   "cell_type": "code",
   "execution_count": 28,
   "metadata": {},
   "outputs": [
    {
     "data": {
      "text/plain": [
       "<seaborn.axisgrid.FacetGrid at 0x2811a8eef98>"
      ]
     },
     "execution_count": 28,
     "metadata": {},
     "output_type": "execute_result"
    },
    {
     "data": {
      "image/png": "[encoded data removed]",
      "text/plain": [
       "<Figure size 360x360 with 1 Axes>"
      ]
     },
     "metadata": {
      "needs_background": "light"
     },
     "output_type": "display_data"
    }
   ],
   "source": [
    "sns.lmplot(x=\"COMMERCIAL UNITS\", y=\"ZIP CODE\", data=df)"
   ]
  },
  {
   "cell_type": "markdown",
   "metadata": {},
   "source": [
    "### Your Turn\n",
    "\n",
    "Run a correlation and regresssion on the dataset below. What can you tell from the data?"
   ]
  },
  {
   "cell_type": "code",
   "execution_count": 6,
   "metadata": {
    "scrolled": true
   },
   "outputs": [],
   "source": [
    "import pandas as pd\n",
    "import numpy as np\n",
    "import statsmodels.formula.api as smf\n",
    "import seaborn as sns\n",
    "\n"
   ]
  },
  {
   "cell_type": "code",
   "execution_count": 7,
   "metadata": {},
   "outputs": [
    {
     "data": {
      "text/html": [
       "<div>\n",
       "<style scoped>\n",
       "    .dataframe tbody tr th:only-of-type {\n",
       "        vertical-align: middle;\n",
       "    }\n",
       "\n",
       "    .dataframe tbody tr th {\n",
       "        vertical-align: top;\n",
       "    }\n",
       "\n",
       "    .dataframe thead th {\n",
       "        text-align: right;\n",
       "    }\n",
       "</style>\n",
       "<table border=\"1\" class=\"dataframe\">\n",
       "  <thead>\n",
       "    <tr style=\"text-align: right;\">\n",
       "      <th></th>\n",
       "      <th>Cart Location</th>\n",
       "      <th>Hot Dog Sales</th>\n",
       "      <th>Employees in Nearby Office Buildings</th>\n",
       "      <th>Num of Nearby Restaurants</th>\n",
       "      <th>Num of Other Food Carts Nearby</th>\n",
       "      <th>Price</th>\n",
       "    </tr>\n",
       "  </thead>\n",
       "  <tbody>\n",
       "    <tr>\n",
       "      <th>0</th>\n",
       "      <td>1</td>\n",
       "      <td>100</td>\n",
       "      <td>1600</td>\n",
       "      <td>8</td>\n",
       "      <td>12</td>\n",
       "      <td>4.16</td>\n",
       "    </tr>\n",
       "    <tr>\n",
       "      <th>1</th>\n",
       "      <td>2</td>\n",
       "      <td>80</td>\n",
       "      <td>1200</td>\n",
       "      <td>6</td>\n",
       "      <td>13</td>\n",
       "      <td>4.63</td>\n",
       "    </tr>\n",
       "    <tr>\n",
       "      <th>2</th>\n",
       "      <td>3</td>\n",
       "      <td>450</td>\n",
       "      <td>2800</td>\n",
       "      <td>19</td>\n",
       "      <td>6</td>\n",
       "      <td>0.50</td>\n",
       "    </tr>\n",
       "    <tr>\n",
       "      <th>3</th>\n",
       "      <td>4</td>\n",
       "      <td>580</td>\n",
       "      <td>4300</td>\n",
       "      <td>19</td>\n",
       "      <td>2</td>\n",
       "      <td>0.47</td>\n",
       "    </tr>\n",
       "    <tr>\n",
       "      <th>4</th>\n",
       "      <td>5</td>\n",
       "      <td>100</td>\n",
       "      <td>1400</td>\n",
       "      <td>6</td>\n",
       "      <td>13</td>\n",
       "      <td>4.24</td>\n",
       "    </tr>\n",
       "  </tbody>\n",
       "</table>\n",
       "</div>"
      ],
      "text/plain": [
       "   Cart Location  Hot Dog Sales  Employees in Nearby Office Buildings  \\\n",
       "0              1            100                                  1600   \n",
       "1              2             80                                  1200   \n",
       "2              3            450                                  2800   \n",
       "3              4            580                                  4300   \n",
       "4              5            100                                  1400   \n",
       "\n",
       "   Num of Nearby Restaurants  Num of Other Food Carts Nearby  Price  \n",
       "0                          8                              12   4.16  \n",
       "1                          6                              13   4.63  \n",
       "2                         19                               6   0.50  \n",
       "3                         19                               2   0.47  \n",
       "4                          6                              13   4.24  "
      ]
     },
     "execution_count": 7,
     "metadata": {},
     "output_type": "execute_result"
    }
   ],
   "source": [
    "Location2 = \"tamiami.csv\"\n",
    "\n",
    "df = pd.read_csv(Location2)\n",
    "df.head()"
   ]
  },
  {
   "cell_type": "code",
   "execution_count": 8,
   "metadata": {},
   "outputs": [
    {
     "data": {
      "text/html": [
       "<div>\n",
       "<style scoped>\n",
       "    .dataframe tbody tr th:only-of-type {\n",
       "        vertical-align: middle;\n",
       "    }\n",
       "\n",
       "    .dataframe tbody tr th {\n",
       "        vertical-align: top;\n",
       "    }\n",
       "\n",
       "    .dataframe thead th {\n",
       "        text-align: right;\n",
       "    }\n",
       "</style>\n",
       "<table border=\"1\" class=\"dataframe\">\n",
       "  <thead>\n",
       "    <tr style=\"text-align: right;\">\n",
       "      <th></th>\n",
       "      <th>location</th>\n",
       "      <th>sales</th>\n",
       "      <th>employees</th>\n",
       "      <th>restaurants</th>\n",
       "      <th>foodcarts</th>\n",
       "      <th>price</th>\n",
       "    </tr>\n",
       "  </thead>\n",
       "  <tbody>\n",
       "    <tr>\n",
       "      <th>0</th>\n",
       "      <td>1</td>\n",
       "      <td>100</td>\n",
       "      <td>1600</td>\n",
       "      <td>8</td>\n",
       "      <td>12</td>\n",
       "      <td>4.16</td>\n",
       "    </tr>\n",
       "    <tr>\n",
       "      <th>1</th>\n",
       "      <td>2</td>\n",
       "      <td>80</td>\n",
       "      <td>1200</td>\n",
       "      <td>6</td>\n",
       "      <td>13</td>\n",
       "      <td>4.63</td>\n",
       "    </tr>\n",
       "    <tr>\n",
       "      <th>2</th>\n",
       "      <td>3</td>\n",
       "      <td>450</td>\n",
       "      <td>2800</td>\n",
       "      <td>19</td>\n",
       "      <td>6</td>\n",
       "      <td>0.50</td>\n",
       "    </tr>\n",
       "    <tr>\n",
       "      <th>3</th>\n",
       "      <td>4</td>\n",
       "      <td>580</td>\n",
       "      <td>4300</td>\n",
       "      <td>19</td>\n",
       "      <td>2</td>\n",
       "      <td>0.47</td>\n",
       "    </tr>\n",
       "    <tr>\n",
       "      <th>4</th>\n",
       "      <td>5</td>\n",
       "      <td>100</td>\n",
       "      <td>1400</td>\n",
       "      <td>6</td>\n",
       "      <td>13</td>\n",
       "      <td>4.24</td>\n",
       "    </tr>\n",
       "  </tbody>\n",
       "</table>\n",
       "</div>"
      ],
      "text/plain": [
       "   location  sales  employees  restaurants  foodcarts  price\n",
       "0         1    100       1600            8         12   4.16\n",
       "1         2     80       1200            6         13   4.63\n",
       "2         3    450       2800           19          6   0.50\n",
       "3         4    580       4300           19          2   0.47\n",
       "4         5    100       1400            6         13   4.24"
      ]
     },
     "execution_count": 8,
     "metadata": {},
     "output_type": "execute_result"
    }
   ],
   "source": [
    "columns = ['location', 'sales', 'employees', 'restaurants', 'foodcarts', 'price']\n",
    "\n",
    "#change column names for readability\n",
    "df.columns = columns\n",
    "df.head()"
   ]
  },
  {
   "cell_type": "code",
   "execution_count": 9,
   "metadata": {},
   "outputs": [
    {
     "data": {
      "text/html": [
       "<div>\n",
       "<style scoped>\n",
       "    .dataframe tbody tr th:only-of-type {\n",
       "        vertical-align: middle;\n",
       "    }\n",
       "\n",
       "    .dataframe tbody tr th {\n",
       "        vertical-align: top;\n",
       "    }\n",
       "\n",
       "    .dataframe thead th {\n",
       "        text-align: right;\n",
       "    }\n",
       "</style>\n",
       "<table border=\"1\" class=\"dataframe\">\n",
       "  <thead>\n",
       "    <tr style=\"text-align: right;\">\n",
       "      <th></th>\n",
       "      <th>location</th>\n",
       "      <th>sales</th>\n",
       "      <th>employees</th>\n",
       "      <th>restaurants</th>\n",
       "      <th>foodcarts</th>\n",
       "      <th>price</th>\n",
       "    </tr>\n",
       "  </thead>\n",
       "  <tbody>\n",
       "    <tr>\n",
       "      <th>location</th>\n",
       "      <td>1.000000</td>\n",
       "      <td>0.042705</td>\n",
       "      <td>-0.068923</td>\n",
       "      <td>0.049701</td>\n",
       "      <td>0.077219</td>\n",
       "      <td>-0.138444</td>\n",
       "    </tr>\n",
       "    <tr>\n",
       "      <th>sales</th>\n",
       "      <td>0.042705</td>\n",
       "      <td>1.000000</td>\n",
       "      <td>0.943238</td>\n",
       "      <td>0.913674</td>\n",
       "      <td>-0.919762</td>\n",
       "      <td>-0.966378</td>\n",
       "    </tr>\n",
       "    <tr>\n",
       "      <th>employees</th>\n",
       "      <td>-0.068923</td>\n",
       "      <td>0.943238</td>\n",
       "      <td>1.000000</td>\n",
       "      <td>0.856976</td>\n",
       "      <td>-0.874692</td>\n",
       "      <td>-0.881540</td>\n",
       "    </tr>\n",
       "    <tr>\n",
       "      <th>restaurants</th>\n",
       "      <td>0.049701</td>\n",
       "      <td>0.913674</td>\n",
       "      <td>0.856976</td>\n",
       "      <td>1.000000</td>\n",
       "      <td>-0.761793</td>\n",
       "      <td>-0.933951</td>\n",
       "    </tr>\n",
       "    <tr>\n",
       "      <th>foodcarts</th>\n",
       "      <td>0.077219</td>\n",
       "      <td>-0.919762</td>\n",
       "      <td>-0.874692</td>\n",
       "      <td>-0.761793</td>\n",
       "      <td>1.000000</td>\n",
       "      <td>0.860154</td>\n",
       "    </tr>\n",
       "    <tr>\n",
       "      <th>price</th>\n",
       "      <td>-0.138444</td>\n",
       "      <td>-0.966378</td>\n",
       "      <td>-0.881540</td>\n",
       "      <td>-0.933951</td>\n",
       "      <td>0.860154</td>\n",
       "      <td>1.000000</td>\n",
       "    </tr>\n",
       "  </tbody>\n",
       "</table>\n",
       "</div>"
      ],
      "text/plain": [
       "             location     sales  employees  restaurants  foodcarts     price\n",
       "location     1.000000  0.042705  -0.068923     0.049701   0.077219 -0.138444\n",
       "sales        0.042705  1.000000   0.943238     0.913674  -0.919762 -0.966378\n",
       "employees   -0.068923  0.943238   1.000000     0.856976  -0.874692 -0.881540\n",
       "restaurants  0.049701  0.913674   0.856976     1.000000  -0.761793 -0.933951\n",
       "foodcarts    0.077219 -0.919762  -0.874692    -0.761793   1.000000  0.860154\n",
       "price       -0.138444 -0.966378  -0.881540    -0.933951   0.860154  1.000000"
      ]
     },
     "execution_count": 9,
     "metadata": {},
     "output_type": "execute_result"
    }
   ],
   "source": [
    "df.corr()"
   ]
  },
  {
   "cell_type": "markdown",
   "metadata": {},
   "source": [
    "There is a strong positive correlation between sales and employees, sales and restaurants, and employees and restaurants.  There is a strong negative correlation between sales and footcarts, sales and price and employees and price."
   ]
  },
  {
   "cell_type": "code",
   "execution_count": 10,
   "metadata": {},
   "outputs": [],
   "source": [
    "result = smf.ols('employees ~ restaurants + sales + location', data=df).fit()"
   ]
  },
  {
   "cell_type": "code",
   "execution_count": 11,
   "metadata": {},
   "outputs": [
    {
     "data": {
      "text/html": [
       "<table class=\"simpletable\">\n",
       "<caption>OLS Regression Results</caption>\n",
       "<tr>\n",
       "  <th>Dep. Variable:</th>        <td>employees</td>    <th>  R-squared:         </th> <td>   0.902</td>\n",
       "</tr>\n",
       "<tr>\n",
       "  <th>Model:</th>                   <td>OLS</td>       <th>  Adj. R-squared:    </th> <td>   0.890</td>\n",
       "</tr>\n",
       "<tr>\n",
       "  <th>Method:</th>             <td>Least Squares</td>  <th>  F-statistic:       </th> <td>   79.52</td>\n",
       "</tr>\n",
       "<tr>\n",
       "  <th>Date:</th>             <td>Thu, 07 Mar 2019</td> <th>  Prob (F-statistic):</th> <td>3.18e-13</td>\n",
       "</tr>\n",
       "<tr>\n",
       "  <th>Time:</th>                 <td>18:12:56</td>     <th>  Log-Likelihood:    </th> <td> -210.20</td>\n",
       "</tr>\n",
       "<tr>\n",
       "  <th>No. Observations:</th>      <td>    30</td>      <th>  AIC:               </th> <td>   428.4</td>\n",
       "</tr>\n",
       "<tr>\n",
       "  <th>Df Residuals:</th>          <td>    26</td>      <th>  BIC:               </th> <td>   434.0</td>\n",
       "</tr>\n",
       "<tr>\n",
       "  <th>Df Model:</th>              <td>     3</td>      <th>                     </th>     <td> </td>   \n",
       "</tr>\n",
       "<tr>\n",
       "  <th>Covariance Type:</th>      <td>nonrobust</td>    <th>                     </th>     <td> </td>   \n",
       "</tr>\n",
       "</table>\n",
       "<table class=\"simpletable\">\n",
       "<tr>\n",
       "       <td></td>          <th>coef</th>     <th>std err</th>      <th>t</th>      <th>P>|t|</th>  <th>[0.025</th>    <th>0.975]</th>  \n",
       "</tr>\n",
       "<tr>\n",
       "  <th>Intercept</th>   <td> 1001.5366</td> <td>  176.972</td> <td>    5.659</td> <td> 0.000</td> <td>  637.766</td> <td> 1365.308</td>\n",
       "</tr>\n",
       "<tr>\n",
       "  <th>restaurants</th> <td>   -3.7873</td> <td>   25.798</td> <td>   -0.147</td> <td> 0.884</td> <td>  -56.816</td> <td>   49.242</td>\n",
       "</tr>\n",
       "<tr>\n",
       "  <th>sales</th>       <td>    4.7648</td> <td>    0.744</td> <td>    6.401</td> <td> 0.000</td> <td>    3.235</td> <td>    6.295</td>\n",
       "</tr>\n",
       "<tr>\n",
       "  <th>location</th>    <td>  -10.7471</td> <td>    6.060</td> <td>   -1.773</td> <td> 0.088</td> <td>  -23.204</td> <td>    1.710</td>\n",
       "</tr>\n",
       "</table>\n",
       "<table class=\"simpletable\">\n",
       "<tr>\n",
       "  <th>Omnibus:</th>       <td> 0.231</td> <th>  Durbin-Watson:     </th> <td>   2.224</td>\n",
       "</tr>\n",
       "<tr>\n",
       "  <th>Prob(Omnibus):</th> <td> 0.891</td> <th>  Jarque-Bera (JB):  </th> <td>   0.366</td>\n",
       "</tr>\n",
       "<tr>\n",
       "  <th>Skew:</th>          <td> 0.178</td> <th>  Prob(JB):          </th> <td>   0.833</td>\n",
       "</tr>\n",
       "<tr>\n",
       "  <th>Kurtosis:</th>      <td> 2.592</td> <th>  Cond. No.          </th> <td>1.06e+03</td>\n",
       "</tr>\n",
       "</table><br/><br/>Warnings:<br/>[1] Standard Errors assume that the covariance matrix of the errors is correctly specified.<br/>[2] The condition number is large, 1.06e+03. This might indicate that there are<br/>strong multicollinearity or other numerical problems."
      ],
      "text/plain": [
       "<class 'statsmodels.iolib.summary.Summary'>\n",
       "\"\"\"\n",
       "                            OLS Regression Results                            \n",
       "==============================================================================\n",
       "Dep. Variable:              employees   R-squared:                       0.902\n",
       "Model:                            OLS   Adj. R-squared:                  0.890\n",
       "Method:                 Least Squares   F-statistic:                     79.52\n",
       "Date:                Thu, 07 Mar 2019   Prob (F-statistic):           3.18e-13\n",
       "Time:                        18:12:56   Log-Likelihood:                -210.20\n",
       "No. Observations:                  30   AIC:                             428.4\n",
       "Df Residuals:                      26   BIC:                             434.0\n",
       "Df Model:                           3                                         \n",
       "Covariance Type:            nonrobust                                         \n",
       "===============================================================================\n",
       "                  coef    std err          t      P>|t|      [0.025      0.975]\n",
       "-------------------------------------------------------------------------------\n",
       "Intercept    1001.5366    176.972      5.659      0.000     637.766    1365.308\n",
       "restaurants    -3.7873     25.798     -0.147      0.884     -56.816      49.242\n",
       "sales           4.7648      0.744      6.401      0.000       3.235       6.295\n",
       "location      -10.7471      6.060     -1.773      0.088     -23.204       1.710\n",
       "==============================================================================\n",
       "Omnibus:                        0.231   Durbin-Watson:                   2.224\n",
       "Prob(Omnibus):                  0.891   Jarque-Bera (JB):                0.366\n",
       "Skew:                           0.178   Prob(JB):                        0.833\n",
       "Kurtosis:                       2.592   Cond. No.                     1.06e+03\n",
       "==============================================================================\n",
       "\n",
       "Warnings:\n",
       "[1] Standard Errors assume that the covariance matrix of the errors is correctly specified.\n",
       "[2] The condition number is large, 1.06e+03. This might indicate that there are\n",
       "strong multicollinearity or other numerical problems.\n",
       "\"\"\""
      ]
     },
     "execution_count": 11,
     "metadata": {},
     "output_type": "execute_result"
    }
   ],
   "source": [
    "result.summary()"
   ]
  },
  {
   "cell_type": "markdown",
   "metadata": {},
   "source": [
    "There is a positive correlation between the employees and the sales.  However a negative correlation between employees and restaurants and location. The p-value for sales is 0, less than 0.05 so there is no association between sales and employees and the null hypothesis must be rejected.  However there is a slighly higher than 0.05 p-value for location (0.088) and a very strong one for restaurants (0.884), which are both positively associated to employees.  The R-Squared is also strong at  0.902  which means that about 90% of the variation in the number of employees is explained by the data."
   ]
  },
  {
   "cell_type": "code",
   "execution_count": 12,
   "metadata": {},
   "outputs": [],
   "source": [
    "import seaborn as sns"
   ]
  },
  {
   "cell_type": "code",
   "execution_count": 13,
   "metadata": {},
   "outputs": [
    {
     "data": {
      "text/plain": [
       "<matplotlib.axes._subplots.AxesSubplot at 0x2811826a5f8>"
      ]
     },
     "execution_count": 13,
     "metadata": {},
     "output_type": "execute_result"
    },
    {
     "data": {
      "image/png": "[encoded data removed]",
      "text/plain": [
       "<Figure size 432x288 with 1 Axes>"
      ]
     },
     "metadata": {
      "needs_background": "light"
     },
     "output_type": "display_data"
    }
   ],
   "source": [
    "sns.boxplot(data=df)"
   ]
  },
  {
   "cell_type": "code",
   "execution_count": 16,
   "metadata": {},
   "outputs": [
    {
     "data": {
      "text/plain": [
       "<seaborn.axisgrid.FacetGrid at 0x281198f7550>"
      ]
     },
     "execution_count": 16,
     "metadata": {},
     "output_type": "execute_result"
    },
    {
     "data": {
      "image/png": "[encoded data removed]",
      "text/plain": [
       "<Figure size 360x360 with 1 Axes>"
      ]
     },
     "metadata": {
      "needs_background": "light"
     },
     "output_type": "display_data"
    }
   ],
   "source": [
    "sns.lmplot(x=\"restaurants\", y=\"employees\", data=df)"
   ]
  },
  {
   "cell_type": "code",
   "execution_count": 17,
   "metadata": {},
   "outputs": [
    {
     "data": {
      "text/plain": [
       "<seaborn.axisgrid.FacetGrid at 0x2811996c400>"
      ]
     },
     "execution_count": 17,
     "metadata": {},
     "output_type": "execute_result"
    },
    {
     "data": {
      "image/png": "[encoded data removed]",
      "text/plain": [
       "<Figure size 360x360 with 1 Axes>"
      ]
     },
     "metadata": {
      "needs_background": "light"
     },
     "output_type": "display_data"
    }
   ],
   "source": [
    "sns.lmplot(x=\"location\", y=\"employees\", data=df)"
   ]
  },
  {
   "cell_type": "code",
   "execution_count": 18,
   "metadata": {},
   "outputs": [
    {
     "data": {
      "text/plain": [
       "<seaborn.axisgrid.FacetGrid at 0x281199c7b70>"
      ]
     },
     "execution_count": 18,
     "metadata": {},
     "output_type": "execute_result"
    },
    {
     "data": {
      "image/png": "[encoded data removed]",
      "text/plain": [
       "<Figure size 360x360 with 1 Axes>"
      ]
     },
     "metadata": {
      "needs_background": "light"
     },
     "output_type": "display_data"
    }
   ],
   "source": [
    "sns.lmplot(x=\"sales\", y=\"employees\", data=df)"
   ]
  },
  {
   "cell_type": "code",
   "execution_count": null,
   "metadata": {},
   "outputs": [],
   "source": []
  }
 ],
 "metadata": {
  "kernelspec": {
   "display_name": "Python 3",
   "language": "python",
   "name": "python3"
  },
  "language_info": {
   "codemirror_mode": {
    "name": "ipython",
    "version": 3
   },
   "file_extension": ".py",
   "mimetype": "text/x-python",
   "name": "python",
   "nbconvert_exporter": "python",
   "pygments_lexer": "ipython3",
   "version": "3.7.1"
  }
 },
 "nbformat": 4,
 "nbformat_minor": 2
}
